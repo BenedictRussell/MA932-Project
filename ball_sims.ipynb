{
 "cells": [
  {
   "cell_type": "code",
   "execution_count": 1,
   "metadata": {},
   "outputs": [],
   "source": [
    "import ball_functions as f\n",
    "from IPython.display import clear_output, display, HTML \n",
    "from ipywidgets import interact, interactive  \n",
    "import numpy as np\n",
    "import matplotlib.pyplot as plt\n",
    "from matplotlib.animation import FuncAnimation"
   ]
  },
  {
   "cell_type": "markdown",
   "metadata": {},
   "source": [
    "# Swarming Model"
   ]
  },
  {
   "cell_type": "code",
   "execution_count": 2,
   "metadata": {},
   "outputs": [],
   "source": [
    "a,b,c = f.main()\n",
    "\n",
    "#np.shape(a)\n",
    "#f.scatter_t(a,b,c,-1)"
   ]
  },
  {
   "cell_type": "code",
   "execution_count": 3,
   "metadata": {},
   "outputs": [
    {
     "data": {
      "application/vnd.jupyter.widget-view+json": {
       "model_id": "4c3d79496ebf4f41a7548edc82417e4e",
       "version_major": 2,
       "version_minor": 0
      },
      "text/plain": [
       "interactive(children=(IntSlider(value=99, description='t', max=199), Output()), _dom_classes=('widget-interact…"
      ]
     },
     "metadata": {},
     "output_type": "display_data"
    },
    {
     "data": {
      "text/plain": [
       "<function __main__.plot_temp(t)>"
      ]
     },
     "execution_count": 3,
     "metadata": {},
     "output_type": "execute_result"
    }
   ],
   "source": [
    "def plot_temp(t):\n",
    "    f.scatter_t(a,b,c,t)\n",
    "    \n",
    "interact(plot_temp, t=(0,a.shape[0]-1,1))"
   ]
  },
  {
   "cell_type": "markdown",
   "metadata": {},
   "source": [
    "# Collision Model"
   ]
  },
  {
   "cell_type": "code",
   "execution_count": 2,
   "metadata": {},
   "outputs": [
    {
     "ename": "KeyboardInterrupt",
     "evalue": "",
     "output_type": "error",
     "traceback": [
      "\u001b[0;31m---------------------------------------------------------------------------\u001b[0m",
      "\u001b[0;31mKeyboardInterrupt\u001b[0m                         Traceback (most recent call last)",
      "\u001b[1;32m/home/brussell/Documents/MA932-Project/ball_sims.ipynb Cell 6\u001b[0m line \u001b[0;36m1\n\u001b[1;32m     <a href='vscode-notebook-cell:/home/brussell/Documents/MA932-Project/ball_sims.ipynb#W5sZmlsZQ%3D%3D?line=12'>13</a>\u001b[0m ax\u001b[39m.\u001b[39mset_xlim(\u001b[39m0\u001b[39m,\u001b[39m10\u001b[39m); ax\u001b[39m.\u001b[39mset_ylim(\u001b[39m0\u001b[39m,\u001b[39m10\u001b[39m)\n\u001b[1;32m     <a href='vscode-notebook-cell:/home/brussell/Documents/MA932-Project/ball_sims.ipynb#W5sZmlsZQ%3D%3D?line=14'>15</a>\u001b[0m ani \u001b[39m=\u001b[39m FuncAnimation(fig, update, frames\u001b[39m=\u001b[39mt, fargs\u001b[39m=\u001b[39m(dynamic,scatter), repeat\u001b[39m=\u001b[39m\u001b[39mFalse\u001b[39;00m,cache_frame_data\u001b[39m=\u001b[39m\u001b[39mFalse\u001b[39;00m)\n\u001b[0;32m---> <a href='vscode-notebook-cell:/home/brussell/Documents/MA932-Project/ball_sims.ipynb#W5sZmlsZQ%3D%3D?line=15'>16</a>\u001b[0m ani\u001b[39m.\u001b[39msave(\u001b[39m'\u001b[39m\u001b[39mtry.gif\u001b[39m\u001b[39m'\u001b[39m, writer\u001b[39m=\u001b[39m\u001b[39m'\u001b[39m\u001b[39mimagemagick\u001b[39m\u001b[39m'\u001b[39m)\n",
      "File \u001b[0;32m~/anaconda3/lib/python3.11/site-packages/matplotlib/animation.py:1085\u001b[0m, in \u001b[0;36mAnimation.save\u001b[0;34m(self, filename, writer, fps, dpi, codec, bitrate, extra_args, metadata, extra_anim, savefig_kwargs, progress_callback)\u001b[0m\n\u001b[1;32m   1081\u001b[0m savefig_kwargs[\u001b[39m'\u001b[39m\u001b[39mtransparent\u001b[39m\u001b[39m'\u001b[39m] \u001b[39m=\u001b[39m \u001b[39mFalse\u001b[39;00m   \u001b[39m# just to be safe!\u001b[39;00m\n\u001b[1;32m   1082\u001b[0m \u001b[39m# canvas._is_saving = True makes the draw_event animation-starting\u001b[39;00m\n\u001b[1;32m   1083\u001b[0m \u001b[39m# callback a no-op; canvas.manager = None prevents resizing the GUI\u001b[39;00m\n\u001b[1;32m   1084\u001b[0m \u001b[39m# widget (both are likewise done in savefig()).\u001b[39;00m\n\u001b[0;32m-> 1085\u001b[0m \u001b[39mwith\u001b[39;00m mpl\u001b[39m.\u001b[39mrc_context({\u001b[39m'\u001b[39m\u001b[39msavefig.bbox\u001b[39m\u001b[39m'\u001b[39m: \u001b[39mNone\u001b[39;00m}), \\\n\u001b[1;32m   1086\u001b[0m      writer\u001b[39m.\u001b[39msaving(\u001b[39mself\u001b[39m\u001b[39m.\u001b[39m_fig, filename, dpi), \\\n\u001b[1;32m   1087\u001b[0m      cbook\u001b[39m.\u001b[39m_setattr_cm(\u001b[39mself\u001b[39m\u001b[39m.\u001b[39m_fig\u001b[39m.\u001b[39mcanvas,\n\u001b[1;32m   1088\u001b[0m                        _is_saving\u001b[39m=\u001b[39m\u001b[39mTrue\u001b[39;00m, manager\u001b[39m=\u001b[39m\u001b[39mNone\u001b[39;00m):\n\u001b[1;32m   1089\u001b[0m     \u001b[39mfor\u001b[39;00m anim \u001b[39min\u001b[39;00m all_anim:\n\u001b[1;32m   1090\u001b[0m         anim\u001b[39m.\u001b[39m_init_draw()  \u001b[39m# Clear the initial frame\u001b[39;00m\n",
      "File \u001b[0;32m~/anaconda3/lib/python3.11/contextlib.py:144\u001b[0m, in \u001b[0;36m_GeneratorContextManager.__exit__\u001b[0;34m(self, typ, value, traceback)\u001b[0m\n\u001b[1;32m    142\u001b[0m \u001b[39mif\u001b[39;00m typ \u001b[39mis\u001b[39;00m \u001b[39mNone\u001b[39;00m:\n\u001b[1;32m    143\u001b[0m     \u001b[39mtry\u001b[39;00m:\n\u001b[0;32m--> 144\u001b[0m         \u001b[39mnext\u001b[39m(\u001b[39mself\u001b[39m\u001b[39m.\u001b[39mgen)\n\u001b[1;32m    145\u001b[0m     \u001b[39mexcept\u001b[39;00m \u001b[39mStopIteration\u001b[39;00m:\n\u001b[1;32m    146\u001b[0m         \u001b[39mreturn\u001b[39;00m \u001b[39mFalse\u001b[39;00m\n",
      "File \u001b[0;32m~/anaconda3/lib/python3.11/site-packages/matplotlib/animation.py:235\u001b[0m, in \u001b[0;36mAbstractMovieWriter.saving\u001b[0;34m(self, fig, outfile, dpi, *args, **kwargs)\u001b[0m\n\u001b[1;32m    233\u001b[0m     \u001b[39myield\u001b[39;00m \u001b[39mself\u001b[39m\n\u001b[1;32m    234\u001b[0m \u001b[39mfinally\u001b[39;00m:\n\u001b[0;32m--> 235\u001b[0m     \u001b[39mself\u001b[39m\u001b[39m.\u001b[39mfinish()\n",
      "File \u001b[0;32m~/anaconda3/lib/python3.11/site-packages/matplotlib/animation.py:336\u001b[0m, in \u001b[0;36mMovieWriter.finish\u001b[0;34m(self)\u001b[0m\n\u001b[1;32m    334\u001b[0m \u001b[39mdef\u001b[39;00m \u001b[39mfinish\u001b[39m(\u001b[39mself\u001b[39m):\n\u001b[1;32m    335\u001b[0m \u001b[39m    \u001b[39m\u001b[39m\"\"\"Finish any processing for writing the movie.\"\"\"\u001b[39;00m\n\u001b[0;32m--> 336\u001b[0m     out, err \u001b[39m=\u001b[39m \u001b[39mself\u001b[39m\u001b[39m.\u001b[39m_proc\u001b[39m.\u001b[39mcommunicate()\n\u001b[1;32m    337\u001b[0m     \u001b[39m# Use the encoding/errors that universal_newlines would use.\u001b[39;00m\n\u001b[1;32m    338\u001b[0m     out \u001b[39m=\u001b[39m TextIOWrapper(BytesIO(out))\u001b[39m.\u001b[39mread()\n",
      "File \u001b[0;32m~/anaconda3/lib/python3.11/subprocess.py:1209\u001b[0m, in \u001b[0;36mPopen.communicate\u001b[0;34m(self, input, timeout)\u001b[0m\n\u001b[1;32m   1206\u001b[0m     endtime \u001b[39m=\u001b[39m \u001b[39mNone\u001b[39;00m\n\u001b[1;32m   1208\u001b[0m \u001b[39mtry\u001b[39;00m:\n\u001b[0;32m-> 1209\u001b[0m     stdout, stderr \u001b[39m=\u001b[39m \u001b[39mself\u001b[39m\u001b[39m.\u001b[39m_communicate(\u001b[39minput\u001b[39m, endtime, timeout)\n\u001b[1;32m   1210\u001b[0m \u001b[39mexcept\u001b[39;00m \u001b[39mKeyboardInterrupt\u001b[39;00m:\n\u001b[1;32m   1211\u001b[0m     \u001b[39m# https://bugs.python.org/issue25942\u001b[39;00m\n\u001b[1;32m   1212\u001b[0m     \u001b[39m# See the detailed comment in .wait().\u001b[39;00m\n\u001b[1;32m   1213\u001b[0m     \u001b[39mif\u001b[39;00m timeout \u001b[39mis\u001b[39;00m \u001b[39mnot\u001b[39;00m \u001b[39mNone\u001b[39;00m:\n",
      "File \u001b[0;32m~/anaconda3/lib/python3.11/subprocess.py:2108\u001b[0m, in \u001b[0;36mPopen._communicate\u001b[0;34m(self, input, endtime, orig_timeout)\u001b[0m\n\u001b[1;32m   2101\u001b[0m     \u001b[39mself\u001b[39m\u001b[39m.\u001b[39m_check_timeout(endtime, orig_timeout,\n\u001b[1;32m   2102\u001b[0m                         stdout, stderr,\n\u001b[1;32m   2103\u001b[0m                         skip_check_and_raise\u001b[39m=\u001b[39m\u001b[39mTrue\u001b[39;00m)\n\u001b[1;32m   2104\u001b[0m     \u001b[39mraise\u001b[39;00m \u001b[39mRuntimeError\u001b[39;00m(  \u001b[39m# Impossible :)\u001b[39;00m\n\u001b[1;32m   2105\u001b[0m         \u001b[39m'\u001b[39m\u001b[39m_check_timeout(..., skip_check_and_raise=True) \u001b[39m\u001b[39m'\u001b[39m\n\u001b[1;32m   2106\u001b[0m         \u001b[39m'\u001b[39m\u001b[39mfailed to raise TimeoutExpired.\u001b[39m\u001b[39m'\u001b[39m)\n\u001b[0;32m-> 2108\u001b[0m ready \u001b[39m=\u001b[39m selector\u001b[39m.\u001b[39mselect(timeout)\n\u001b[1;32m   2109\u001b[0m \u001b[39mself\u001b[39m\u001b[39m.\u001b[39m_check_timeout(endtime, orig_timeout, stdout, stderr)\n\u001b[1;32m   2111\u001b[0m \u001b[39m# XXX Rewrite these to use non-blocking I/O on the file\u001b[39;00m\n\u001b[1;32m   2112\u001b[0m \u001b[39m# objects; they are no longer using C stdio!\u001b[39;00m\n",
      "File \u001b[0;32m~/anaconda3/lib/python3.11/selectors.py:415\u001b[0m, in \u001b[0;36m_PollLikeSelector.select\u001b[0;34m(self, timeout)\u001b[0m\n\u001b[1;32m    413\u001b[0m ready \u001b[39m=\u001b[39m []\n\u001b[1;32m    414\u001b[0m \u001b[39mtry\u001b[39;00m:\n\u001b[0;32m--> 415\u001b[0m     fd_event_list \u001b[39m=\u001b[39m \u001b[39mself\u001b[39m\u001b[39m.\u001b[39m_selector\u001b[39m.\u001b[39mpoll(timeout)\n\u001b[1;32m    416\u001b[0m \u001b[39mexcept\u001b[39;00m \u001b[39mInterruptedError\u001b[39;00m:\n\u001b[1;32m    417\u001b[0m     \u001b[39mreturn\u001b[39;00m ready\n",
      "\u001b[0;31mKeyboardInterrupt\u001b[0m: "
     ]
    },
    {
     "data": {
      "image/png": "[encoded data removed]",
      "text/plain": [
       "<Figure size 800x800 with 1 Axes>"
      ]
     },
     "metadata": {},
     "output_type": "display_data"
    }
   ],
   "source": [
    "# collisions animation\n",
    "def update(t,dynamic,scatter):\n",
    "    x,y,theta = next(dynamic)\n",
    "    scatter.set_data([x,y])\n",
    "    return scatter,\n",
    "\n",
    "t = np.linspace(0, 4, 100)\n",
    "dynamic = f.dynamic_gen()\n",
    "x,y,theta = next(dynamic)\n",
    "\n",
    "fig, ax = plt.subplots(1,1,figsize=(8,8))\n",
    "scatter, = ax.plot(x,y,'ob',ms=5)\n",
    "ax.set_xlim(0,10); ax.set_ylim(0,10)\n",
    "\n",
    "ani = FuncAnimation(fig, update, frames=t, fargs=(dynamic,scatter), repeat=False,cache_frame_data=False)\n",
    "ani.save('try.gif', writer='imagemagick')"
   ]
  },
  {
   "cell_type": "markdown",
   "metadata": {},
   "source": [
    "# use"
   ]
  },
  {
   "cell_type": "code",
   "execution_count": 1,
   "metadata": {},
   "outputs": [],
   "source": [
    "import ball_functions as f\n",
    "from IPython.display import clear_output, display, HTML \n",
    "from ipywidgets import interact, interactive  \n",
    "import numpy as np\n",
    "import matplotlib.pyplot as plt\n",
    "from matplotlib.animation import FuncAnimation"
   ]
  },
  {
   "cell_type": "code",
   "execution_count": 2,
   "metadata": {},
   "outputs": [
    {
     "data": {
      "application/vnd.jupyter.widget-view+json": {
       "model_id": "1868855141c24d31ae6b34fec47e82ab",
       "version_major": 2,
       "version_minor": 0
      },
      "text/plain": [
       "interactive(children=(FloatSlider(value=0.0, description='t', max=1.0, step=0.001), Output()), _dom_classes=('…"
      ]
     },
     "metadata": {},
     "output_type": "display_data"
    },
    {
     "data": {
      "text/plain": [
       "<function __main__.plot_temp(t)>"
      ]
     },
     "execution_count": 2,
     "metadata": {},
     "output_type": "execute_result"
    }
   ],
   "source": [
    "dynamic = f.dynamic_gen()\n",
    "\n",
    "def plot_temp(t):\n",
    "    x,y,th = next(dynamic)\n",
    "    f.scatter(x,y,th)\n",
    "    \n",
    "interact(plot_temp, t=(0,1,0.001))"
   ]
  },
  {
   "cell_type": "code",
   "execution_count": null,
   "metadata": {},
   "outputs": [],
   "source": []
  },
  {
   "cell_type": "code",
   "execution_count": null,
   "metadata": {},
   "outputs": [],
   "source": []
  }
 ],
 "metadata": {
  "kernelspec": {
   "display_name": "Python 3",
   "language": "python",
   "name": "python3"
  },
  "language_info": {
   "codemirror_mode": {
    "name": "ipython",
    "version": 3
   },
   "file_extension": ".py",
   "mimetype": "text/x-python",
   "name": "python",
   "nbconvert_exporter": "python",
   "pygments_lexer": "ipython3",
   "version": "3.11.4"
  }
 },
 "nbformat": 4,
 "nbformat_minor": 2
}
