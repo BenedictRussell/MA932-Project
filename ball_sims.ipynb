{
 "cells": [
  {
   "cell_type": "code",
   "execution_count": 1,
   "metadata": {},
   "outputs": [],
   "source": [
    "import ball_functions as f\n",
    "from IPython.display import clear_output, display, HTML \n",
    "from ipywidgets import interact, interactive  \n",
    "import numpy as np\n",
    "import matplotlib.pyplot as plt\n",
    "from matplotlib.animation import FuncAnimation"
   ]
  },
  {
   "cell_type": "markdown",
   "metadata": {},
   "source": [
    "# Swarming Model"
   ]
  },
  {
   "cell_type": "code",
   "execution_count": 2,
   "metadata": {},
   "outputs": [],
   "source": [
    "a,b,c = f.main()\n",
    "\n",
    "#np.shape(a)\n",
    "#f.scatter_t(a,b,c,-1)"
   ]
  },
  {
   "cell_type": "code",
   "execution_count": 3,
   "metadata": {},
   "outputs": [
    {
     "data": {
      "application/vnd.jupyter.widget-view+json": {
       "model_id": "4c3d79496ebf4f41a7548edc82417e4e",
       "version_major": 2,
       "version_minor": 0
      },
      "text/plain": [
       "interactive(children=(IntSlider(value=99, description='t', max=199), Output()), _dom_classes=('widget-interact…"
      ]
     },
     "metadata": {},
     "output_type": "display_data"
    },
    {
     "data": {
      "text/plain": [
       "<function __main__.plot_temp(t)>"
      ]
     },
     "execution_count": 3,
     "metadata": {},
     "output_type": "execute_result"
    }
   ],
   "source": [
    "def plot_temp(t):\n",
    "    f.scatter_t(a,b,c,t)\n",
    "    \n",
    "interact(plot_temp, t=(0,a.shape[0]-1,1))"
   ]
  },
  {
   "cell_type": "markdown",
   "metadata": {},
   "source": [
    "# Collision Model"
   ]
  },
  {
   "cell_type": "code",
   "execution_count": 2,
   "metadata": {},
   "outputs": [
    {
     "ename": "NameError",
     "evalue": "name 'np' is not defined",
     "output_type": "error",
     "traceback": [
      "\u001b[0;31m---------------------------------------------------------------------------\u001b[0m",
      "\u001b[0;31mNameError\u001b[0m                                 Traceback (most recent call last)",
      "\u001b[1;32m/home/brussell/Documents/MA932-Project/ball_sims.ipynb Cell 6\u001b[0m line \u001b[0;36m7\n\u001b[1;32m      <a href='vscode-notebook-cell:/home/brussell/Documents/MA932-Project/ball_sims.ipynb#W5sZmlsZQ%3D%3D?line=3'>4</a>\u001b[0m     scatter\u001b[39m.\u001b[39mset_data([x,y])\n\u001b[1;32m      <a href='vscode-notebook-cell:/home/brussell/Documents/MA932-Project/ball_sims.ipynb#W5sZmlsZQ%3D%3D?line=4'>5</a>\u001b[0m     \u001b[39mreturn\u001b[39;00m scatter,\n\u001b[0;32m----> <a href='vscode-notebook-cell:/home/brussell/Documents/MA932-Project/ball_sims.ipynb#W5sZmlsZQ%3D%3D?line=6'>7</a>\u001b[0m t \u001b[39m=\u001b[39m np\u001b[39m.\u001b[39mlinspace(\u001b[39m0\u001b[39m, \u001b[39m4\u001b[39m, \u001b[39m100\u001b[39m)\n\u001b[1;32m      <a href='vscode-notebook-cell:/home/brussell/Documents/MA932-Project/ball_sims.ipynb#W5sZmlsZQ%3D%3D?line=7'>8</a>\u001b[0m dynamic \u001b[39m=\u001b[39m f\u001b[39m.\u001b[39mdynamic_gen()\n\u001b[1;32m      <a href='vscode-notebook-cell:/home/brussell/Documents/MA932-Project/ball_sims.ipynb#W5sZmlsZQ%3D%3D?line=8'>9</a>\u001b[0m x,y,theta \u001b[39m=\u001b[39m \u001b[39mnext\u001b[39m(dynamic)\n",
      "\u001b[0;31mNameError\u001b[0m: name 'np' is not defined"
     ]
    }
   ],
   "source": [
    "# collisions animation\n",
    "def update(t,dynamic,scatter):\n",
    "    x,y,theta = next(dynamic)\n",
    "    scatter.set_data([x,y])\n",
    "    return scatter,\n",
    "\n",
    "t = np.linspace(0, 4, 100)\n",
    "dynamic = f.dynamic_gen()\n",
    "x,y,theta = next(dynamic)\n",
    "\n",
    "fig, ax = plt.subplots(1,1,figsize=(8,8))\n",
    "scatter, = ax.plot(x,y,'ob',ms=5)\n",
    "ax.set_xlim(0,10); ax.set_ylim(0,10)\n",
    "\n",
    "ani = FuncAnimation(fig, update, frames=t, fargs=(dynamic,scatter), repeat=False,cache_frame_data=False)\n",
    "ani.save('try.gif', writer='imagemagick')"
   ]
  },
  {
   "cell_type": "markdown",
   "metadata": {},
   "source": [
    "# use"
   ]
  },
  {
   "cell_type": "code",
   "execution_count": 1,
   "metadata": {},
   "outputs": [],
   "source": [
    "import ball_functions as f\n",
    "from IPython.display import clear_output, display, HTML \n",
    "from ipywidgets import interact, interactive  \n",
    "import numpy as np\n",
    "import matplotlib.pyplot as plt\n",
    "from matplotlib.animation import FuncAnimation"
   ]
  },
  {
   "cell_type": "code",
   "execution_count": 2,
   "metadata": {},
   "outputs": [
    {
     "data": {
      "application/vnd.jupyter.widget-view+json": {
       "model_id": "2ca4be8ff94744b09c99cc0290f56e00",
       "version_major": 2,
       "version_minor": 0
      },
      "text/plain": [
       "interactive(children=(FloatSlider(value=0.0, description='t', max=1.0, step=0.001), Output()), _dom_classes=('…"
      ]
     },
     "metadata": {},
     "output_type": "display_data"
    },
    {
     "data": {
      "text/plain": [
       "<function __main__.plot_temp(t)>"
      ]
     },
     "execution_count": 2,
     "metadata": {},
     "output_type": "execute_result"
    }
   ],
   "source": [
    "dynamic = f.dynamic_gen()\n",
    "\n",
    "def plot_temp(t):\n",
    "    x,y,th = next(dynamic)\n",
    "    f.scatter(x,y,th)\n",
    "    \n",
    "interact(plot_temp, t=(0,1,0.001))"
   ]
  },
  {
   "cell_type": "code",
   "execution_count": 3,
   "metadata": {},
   "outputs": [
    {
     "ename": "NameError",
     "evalue": "name 'f' is not defined",
     "output_type": "error",
     "traceback": [
      "\u001b[0;31m---------------------------------------------------------------------------\u001b[0m",
      "\u001b[0;31mNameError\u001b[0m                                 Traceback (most recent call last)",
      "\u001b[1;32m/home/brussell/Documents/MA932-Project/ball_sims.ipynb Cell 10\u001b[0m line \u001b[0;36m1\n\u001b[0;32m----> <a href='vscode-notebook-cell:/home/brussell/Documents/MA932-Project/ball_sims.ipynb#X10sZmlsZQ%3D%3D?line=0'>1</a>\u001b[0m dynamic \u001b[39m=\u001b[39m f\u001b[39m.\u001b[39mdynamic_gen_periodic()\n\u001b[1;32m      <a href='vscode-notebook-cell:/home/brussell/Documents/MA932-Project/ball_sims.ipynb#X10sZmlsZQ%3D%3D?line=2'>3</a>\u001b[0m \u001b[39mdef\u001b[39;00m \u001b[39mplot_temp\u001b[39m(t):\n\u001b[1;32m      <a href='vscode-notebook-cell:/home/brussell/Documents/MA932-Project/ball_sims.ipynb#X10sZmlsZQ%3D%3D?line=3'>4</a>\u001b[0m     x,y \u001b[39m=\u001b[39m \u001b[39mnext\u001b[39m(dynamic)\n",
      "\u001b[0;31mNameError\u001b[0m: name 'f' is not defined"
     ]
    }
   ],
   "source": [
    "dynamic = f.dynamic_gen_periodic()\n",
    "\n",
    "def plot_temp(t):\n",
    "    x,y = next(dynamic)\n",
    "    f.scatter_period(x,y)\n",
    "    \n",
    "interact(plot_temp, t=(0,1,0.001))"
   ]
  },
  {
   "cell_type": "code",
   "execution_count": 23,
   "metadata": {},
   "outputs": [],
   "source": [
    "def unit_vector(vector):\n",
    "    return vector / np.linalg.norm(vector)\n",
    "\n",
    "def vectors_from_point(ref_point, x_positions, y_positions):\n",
    "    # Create an array of vectors from ref_point to all other points\n",
    "    vectors = np.array([-x_positions + ref_point[0], -y_positions + ref_point[1]]).T\n",
    "    \n",
    "    # Calculate the magnitudes of all vectors\n",
    "    magnitudes = np.linalg.norm(vectors, axis=1)\n",
    "    \n",
    "    # Calculate the unit vectors\n",
    "    unit_vectors = vectors / magnitudes[:, None]\n",
    "    \n",
    "    return unit_vectors\n",
    "\n",
    "def angle_between(v1, v2):\n",
    "    v1_u = unit_vector(v1)\n",
    "\n",
    "    v2_u = unit_vector(v2)\n",
    "    return np.dot(v1_u, v2_u)"
   ]
  },
  {
   "cell_type": "code",
   "execution_count": 24,
   "metadata": {},
   "outputs": [
    {
     "name": "stdout",
     "output_type": "stream",
     "text": [
      "[[0.94231632 0.33472369]]\n"
     ]
    },
    {
     "ename": "ValueError",
     "evalue": "shapes (1,2) and (1,2) not aligned: 2 (dim 1) != 1 (dim 0)",
     "output_type": "error",
     "traceback": [
      "\u001b[0;31m---------------------------------------------------------------------------\u001b[0m",
      "\u001b[0;31mValueError\u001b[0m                                Traceback (most recent call last)",
      "\u001b[1;32m/home/brussell/Documents/MA932-Project/ball_sims.ipynb Cell 12\u001b[0m line \u001b[0;36m1\n\u001b[1;32m      <a href='vscode-notebook-cell:/home/brussell/Documents/MA932-Project/ball_sims.ipynb#X14sZmlsZQ%3D%3D?line=7'>8</a>\u001b[0m vec_pointing \u001b[39m=\u001b[39m np\u001b[39m.\u001b[39marray(np\u001b[39m.\u001b[39mcolumn_stack((np\u001b[39m.\u001b[39mcos(theta), np\u001b[39m.\u001b[39msin(theta))))\n\u001b[1;32m      <a href='vscode-notebook-cell:/home/brussell/Documents/MA932-Project/ball_sims.ipynb#X14sZmlsZQ%3D%3D?line=8'>9</a>\u001b[0m \u001b[39m#print(vec_pointing)\u001b[39;00m\n\u001b[0;32m---> <a href='vscode-notebook-cell:/home/brussell/Documents/MA932-Project/ball_sims.ipynb#X14sZmlsZQ%3D%3D?line=10'>11</a>\u001b[0m direc \u001b[39m=\u001b[39m angle_between(b2c, vec_pointing)\n\u001b[1;32m     <a href='vscode-notebook-cell:/home/brussell/Documents/MA932-Project/ball_sims.ipynb#X14sZmlsZQ%3D%3D?line=11'>12</a>\u001b[0m direc\n",
      "\u001b[1;32m/home/brussell/Documents/MA932-Project/ball_sims.ipynb Cell 12\u001b[0m line \u001b[0;36m2\n\u001b[1;32m     <a href='vscode-notebook-cell:/home/brussell/Documents/MA932-Project/ball_sims.ipynb#X14sZmlsZQ%3D%3D?line=18'>19</a>\u001b[0m v2_u \u001b[39m=\u001b[39m unit_vector(v2)\n\u001b[1;32m     <a href='vscode-notebook-cell:/home/brussell/Documents/MA932-Project/ball_sims.ipynb#X14sZmlsZQ%3D%3D?line=19'>20</a>\u001b[0m \u001b[39mprint\u001b[39m(v1_u)\n\u001b[0;32m---> <a href='vscode-notebook-cell:/home/brussell/Documents/MA932-Project/ball_sims.ipynb#X14sZmlsZQ%3D%3D?line=20'>21</a>\u001b[0m \u001b[39mreturn\u001b[39;00m np\u001b[39m.\u001b[39mdot(v1_u, v2_u)\n",
      "\u001b[0;31mValueError\u001b[0m: shapes (1,2) and (1,2) not aligned: 2 (dim 1) != 1 (dim 0)"
     ]
    }
   ],
   "source": [
    "theta = 2 * np.pi * np.random.rand(1)\n",
    "x,y = np.random.uniform(low=20, high=80, size=(2, 1))\n",
    "\n",
    "b2c = vectors_from_point([50,50], x, y)\n",
    "\n",
    "#print(b2c)\n",
    "\n",
    "vec_pointing = np.array(np.column_stack((np.cos(theta), np.sin(theta))))\n",
    "#print(vec_pointing)\n",
    "\n",
    "direc = angle_between(b2c, vec_pointing)\n",
    "direc"
   ]
  },
  {
   "cell_type": "code",
   "execution_count": null,
   "metadata": {},
   "outputs": [],
   "source": []
  }
 ],
 "metadata": {
  "kernelspec": {
   "display_name": "Python 3",
   "language": "python",
   "name": "python3"
  },
  "language_info": {
   "codemirror_mode": {
    "name": "ipython",
    "version": 3
   },
   "file_extension": ".py",
   "mimetype": "text/x-python",
   "name": "python",
   "nbconvert_exporter": "python",
   "pygments_lexer": "ipython3",
   "version": "3.11.4"
  }
 },
 "nbformat": 4,
 "nbformat_minor": 2
}
