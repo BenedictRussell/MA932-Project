{
 "cells": [
  {
   "cell_type": "code",
   "execution_count": 1,
   "metadata": {},
   "outputs": [],
   "source": [
    "import ball_functions as f\n",
    "from IPython.display import clear_output, display, HTML \n",
    "from ipywidgets import interact, interactive  \n",
    "import numpy as np\n",
    "import matplotlib.pyplot as plt\n",
    "from matplotlib.animation import FuncAnimation"
   ]
  },
  {
   "cell_type": "markdown",
   "metadata": {},
   "source": [
    "# Swarming Model"
   ]
  },
  {
   "cell_type": "code",
   "execution_count": 2,
   "metadata": {},
   "outputs": [],
   "source": [
    "a,b,c = f.main()\n",
    "\n",
    "#np.shape(a)\n",
    "#f.scatter_t(a,b,c,-1)"
   ]
  },
  {
   "cell_type": "code",
   "execution_count": 3,
   "metadata": {},
   "outputs": [
    {
     "data": {
      "application/vnd.jupyter.widget-view+json": {
       "model_id": "4c3d79496ebf4f41a7548edc82417e4e",
       "version_major": 2,
       "version_minor": 0
      },
      "text/plain": [
       "interactive(children=(IntSlider(value=99, description='t', max=199), Output()), _dom_classes=('widget-interact…"
      ]
     },
     "metadata": {},
     "output_type": "display_data"
    },
    {
     "data": {
      "text/plain": [
       "<function __main__.plot_temp(t)>"
      ]
     },
     "execution_count": 3,
     "metadata": {},
     "output_type": "execute_result"
    }
   ],
   "source": [
    "def plot_temp(t):\n",
    "    f.scatter_t(a,b,c,t)\n",
    "    \n",
    "interact(plot_temp, t=(0,a.shape[0]-1,1))"
   ]
  },
  {
   "cell_type": "markdown",
   "metadata": {},
   "source": [
    "# Collision Model"
   ]
  },
  {
   "cell_type": "code",
   "execution_count": 1,
   "metadata": {},
   "outputs": [
    {
     "ename": "NameError",
     "evalue": "name 'np' is not defined",
     "output_type": "error",
     "traceback": [
      "\u001b[0;31m---------------------------------------------------------------------------\u001b[0m",
      "\u001b[0;31mNameError\u001b[0m                                 Traceback (most recent call last)",
      "\u001b[1;32m/home/brussell/Documents/MA932-Project/ball_sims.ipynb Cell 6\u001b[0m line \u001b[0;36m7\n\u001b[1;32m      <a href='vscode-notebook-cell:/home/brussell/Documents/MA932-Project/ball_sims.ipynb#W5sZmlsZQ%3D%3D?line=3'>4</a>\u001b[0m     scatter\u001b[39m.\u001b[39mset_data([x,y])\n\u001b[1;32m      <a href='vscode-notebook-cell:/home/brussell/Documents/MA932-Project/ball_sims.ipynb#W5sZmlsZQ%3D%3D?line=4'>5</a>\u001b[0m     \u001b[39mreturn\u001b[39;00m scatter,\n\u001b[0;32m----> <a href='vscode-notebook-cell:/home/brussell/Documents/MA932-Project/ball_sims.ipynb#W5sZmlsZQ%3D%3D?line=6'>7</a>\u001b[0m t \u001b[39m=\u001b[39m np\u001b[39m.\u001b[39mlinspace(\u001b[39m0\u001b[39m, \u001b[39m4\u001b[39m, \u001b[39m100\u001b[39m)\n\u001b[1;32m      <a href='vscode-notebook-cell:/home/brussell/Documents/MA932-Project/ball_sims.ipynb#W5sZmlsZQ%3D%3D?line=7'>8</a>\u001b[0m dynamic \u001b[39m=\u001b[39m f\u001b[39m.\u001b[39mdynamic_gen()\n\u001b[1;32m      <a href='vscode-notebook-cell:/home/brussell/Documents/MA932-Project/ball_sims.ipynb#W5sZmlsZQ%3D%3D?line=8'>9</a>\u001b[0m x,y,theta \u001b[39m=\u001b[39m \u001b[39mnext\u001b[39m(dynamic)\n",
      "\u001b[0;31mNameError\u001b[0m: name 'np' is not defined"
     ]
    }
   ],
   "source": [
    "# collisions animation\n",
    "def update(t,dynamic,scatter):\n",
    "    x,y,theta = next(dynamic)\n",
    "    scatter.set_data([x,y])\n",
    "    return scatter,\n",
    "\n",
    "t = np.linspace(0, 4, 100)\n",
    "dynamic = f.dynamic_gen()\n",
    "x,y,theta = next(dynamic)\n",
    "\n",
    "fig, ax = plt.subplots(1,1,figsize=(8,8))\n",
    "scatter, = ax.plot(x,y,'ob',ms=5)\n",
    "ax.set_xlim(0,10); ax.set_ylim(0,10)\n",
    "\n",
    "ani = FuncAnimation(fig, update, frames=t, fargs=(dynamic,scatter), repeat=False,cache_frame_data=False)\n",
    "ani.save('try.gif', writer='imagemagick')"
   ]
  },
  {
   "cell_type": "markdown",
   "metadata": {},
   "source": [
    "# use"
   ]
  },
  {
   "cell_type": "code",
   "execution_count": 1,
   "metadata": {},
   "outputs": [],
   "source": [
    "import ball_functions as f\n",
    "from IPython.display import clear_output, display, HTML \n",
    "from ipywidgets import interact, interactive  \n",
    "import numpy as np\n",
    "import matplotlib.pyplot as plt\n",
    "from matplotlib.animation import FuncAnimation"
   ]
  },
  {
   "cell_type": "code",
   "execution_count": 2,
   "metadata": {},
   "outputs": [
    {
     "data": {
      "application/vnd.jupyter.widget-view+json": {
       "model_id": "b90f25345a4d4dedaee09644d70fe8d8",
       "version_major": 2,
       "version_minor": 0
      },
      "text/plain": [
       "interactive(children=(FloatSlider(value=5.0, description='t', max=10.0, step=0.001), Output()), _dom_classes=(…"
      ]
     },
     "metadata": {},
     "output_type": "display_data"
    },
    {
     "data": {
      "text/plain": [
       "<function __main__.plot_temp(t)>"
      ]
     },
     "execution_count": 2,
     "metadata": {},
     "output_type": "execute_result"
    }
   ],
   "source": [
    "dynamic = f.dynamic_gen()\n",
    "\n",
    "def plot_temp(t):\n",
    "    x,y,th = next(dynamic)\n",
    "    f.scatter(x,y,th)\n",
    "    \n",
    "interact(plot_temp, t=(0,10,0.001))"
   ]
  },
  {
   "cell_type": "code",
   "execution_count": null,
   "metadata": {},
   "outputs": [
    {
     "data": {
      "application/vnd.jupyter.widget-view+json": {
       "model_id": "4782933109a54b2db7076f0bcaa28dc1",
       "version_major": 2,
       "version_minor": 0
      },
      "text/plain": [
       "interactive(children=(FloatSlider(value=0.0, description='t', max=1.0, step=0.001), Output()), _dom_classes=('…"
      ]
     },
     "metadata": {},
     "output_type": "display_data"
    },
    {
     "data": {
      "text/plain": [
       "<function __main__.plot_temp(t)>"
      ]
     },
     "execution_count": 2,
     "metadata": {},
     "output_type": "execute_result"
    }
   ],
   "source": [
    "dynamic = f.dynamic_gen_periodic()\n",
    "\n",
    "def plot_temp(t):\n",
    "    x,y = next(dynamic)\n",
    "    f.scatter_period(x,y)\n",
    "    \n",
    "interact(plot_temp, t=(0,1,0.001))"
   ]
  },
  {
   "cell_type": "code",
   "execution_count": 6,
   "metadata": {},
   "outputs": [
    {
     "data": {
      "text/plain": [
       "\"\\nN = 1  # Number of particles\\ngen = dynamic_gen()\\n\\nfig, ax = plt.subplots()\\nax.set_xlim(0, 100)\\nax.set_ylim(0, 100)\\nscatter = ax.scatter([], [], s=1000)\\n\\ndef update(frame):\\n    x, y, _ = next(gen)\\n    scatter.set_offsets(np.column_stack([x, y]))\\n    return scatter,\\n\\nani = FuncAnimation(fig, update, frames=100, interval=50, blit=True)\\nani.save('nope.gif', writer='imagemagick')\\nplt.show()\\n\""
      ]
     },
     "execution_count": 6,
     "metadata": {},
     "output_type": "execute_result"
    }
   ],
   "source": [
    "import numpy as np\n",
    "import math\n",
    "\n",
    "def dynamic_gen():\n",
    "    # Simulation parameters\n",
    "    v0 = 100.0  # velocity\n",
    "    eta = 0.5  # random fluctuation in angle (in radians)\n",
    "    L = 100    # size of box\n",
    "    R = 5      # interaction radius\n",
    "    dt = 0.01   # time step\n",
    "    N = 10      # number of balls\n",
    "\n",
    "    # Initial positions and velocities\n",
    "    x, y = np.random.uniform(low=0, high=L, size=(2, N))\n",
    "    v0x, v0y = v0 * np.random.uniform(low=-1, high=1, size=(2, N))\n",
    "    #v0x, v0y = v0 * np.random.choice([1, 1], size=(2, N))\n",
    "    theta = 2 * np.pi * np.random.rand(N)\n",
    "\n",
    "    yield x, y, theta\n",
    "\n",
    "    r = 30\n",
    "    k = 30\n",
    "\n",
    "    vx = v0x\n",
    "    vy = v0y\n",
    "\n",
    "    while True:\n",
    "        noisex = 1 * (np.random.rand(N) - 0.5)\n",
    "        noisey = 1 * (np.random.rand(N) - 0.5)\n",
    "\n",
    "        dx = x[:, None] - x[None, :]\n",
    "        dy = y[:, None] - y[None, :]\n",
    "        dr = np.hypot(dx, dy)\n",
    "        dr = np.ma.masked_where(~((0 < dr) & (dr < r)), dr)\n",
    "\n",
    "        force = k * (2 * r - dr)\n",
    "        vx += np.ma.sum(force * dx / dr, axis=1) * dt\n",
    "        vy += np.ma.sum(force * dy / dr, axis=1) * dt\n",
    "\n",
    "        # Apply boundary conditions\n",
    "        for i in range(N):\n",
    "            if x[i] + vx[i] * dt < 0 or x[i] + vx[i] * dt > L:\n",
    "                vx[i] = -vx[i]\n",
    "            if y[i] + vy[i] * dt < 0 or y[i] + vy[i] * dt > L:\n",
    "                vy[i] = -vy[i]\n",
    "\n",
    "        x += vx* dt + noisex\n",
    "        y += vy* dt + noisey\n",
    "\n",
    "        yield x, y, theta\n",
    "\n",
    "# Sample usage to visualize the particle movement\n",
    "'''\n",
    "N = 1  # Number of particles\n",
    "gen = dynamic_gen()\n",
    "\n",
    "fig, ax = plt.subplots()\n",
    "ax.set_xlim(0, 100)\n",
    "ax.set_ylim(0, 100)\n",
    "scatter = ax.scatter([], [], s=1000)\n",
    "\n",
    "def update(frame):\n",
    "    x, y, _ = next(gen)\n",
    "    scatter.set_offsets(np.column_stack([x, y]))\n",
    "    return scatter,\n",
    "\n",
    "ani = FuncAnimation(fig, update, frames=100, interval=50, blit=True)\n",
    "ani.save('nope.gif', writer='imagemagick')\n",
    "plt.show()\n",
    "'''"
   ]
  },
  {
   "cell_type": "code",
   "execution_count": 7,
   "metadata": {},
   "outputs": [
    {
     "data": {
      "application/vnd.jupyter.widget-view+json": {
       "model_id": "9c70a27534d84fe3ba5a891eaf3c1f3d",
       "version_major": 2,
       "version_minor": 0
      },
      "text/plain": [
       "interactive(children=(FloatSlider(value=5.0, description='t', max=10.0, step=0.001), Output()), _dom_classes=(…"
      ]
     },
     "metadata": {},
     "output_type": "display_data"
    },
    {
     "data": {
      "text/plain": [
       "<function __main__.plot_temp(t)>"
      ]
     },
     "execution_count": 7,
     "metadata": {},
     "output_type": "execute_result"
    }
   ],
   "source": [
    "dynamic = dynamic_gen()\n",
    "\n",
    "def plot_temp(t):\n",
    "    \n",
    "    x,y,th = next(dynamic)\n",
    "    f.scatter_period(x,y)\n",
    "    \n",
    "interact(plot_temp, t=(0,10,0.001))"
   ]
  },
  {
   "cell_type": "code",
   "execution_count": 14,
   "metadata": {},
   "outputs": [],
   "source": [
    "def dynamic_gen():\n",
    "    # Simulation parameters\n",
    "    v0 = 10.0  # velocity\n",
    "    eta = 0.5  # random fluctuation in angle (in radians)\n",
    "    L = 100    # size of box\n",
    "    R = 5      # interaction radius\n",
    "    dt = 0.01   # time step\n",
    "    N = 2      # number of balls\n",
    "\n",
    "    # Initial positions and velocities\n",
    "    x, y = np.random.uniform(low=0, high=L, size=(2, N))\n",
    "    v0x, v0y = v0 * np.random.uniform(low=-1, high=1, size=(2, N))\n",
    "    #v0x, v0y = v0 * np.random.choice([1, 1], size=(2, N))\n",
    "    theta = 2 * np.pi * np.random.rand(N)\n",
    "\n",
    "    #yield x, y, theta\n",
    "\n",
    "    r = 1\n",
    "    k = 30\n",
    "\n",
    "    vx = v0x\n",
    "    vy = v0y\n",
    "\n",
    "    T = 10\n",
    "    time = 0\n",
    "    i = 0\n",
    "    x_array = np.zeros((int(T/dt),N))\n",
    "    y_array = np.zeros((int(T/dt),N))\n",
    "\n",
    "    while time < T:\n",
    "        noisex = 1 * (np.random.rand(N) - 0.5)\n",
    "        noisey = 1 * (np.random.rand(N) - 0.5)\n",
    "\n",
    "        dx = x[:, None] - x[None, :]\n",
    "        dy = y[:, None] - y[None, :]\n",
    "        dr = np.hypot(dx, dy)\n",
    "        dr = np.ma.masked_where(~((0 < dr) & (dr < r)), dr)\n",
    "\n",
    "        force = k * (2 * r - dr)\n",
    "        vx += np.ma.sum(force * dx / dr, axis=1) * dt\n",
    "        vy += np.ma.sum(force * dy / dr, axis=1) * dt\n",
    "\n",
    "        # Apply boundary conditions\n",
    "        for i in range(N):\n",
    "            if x[i] + vx[i] * dt < 0 or x[i] + vx[i] * dt > L:\n",
    "                vx[i] = -vx[i]\n",
    "            if y[i] + vy[i] * dt < 0 or y[i] + vy[i] * dt > L:\n",
    "                vy[i] = -vy[i]\n",
    "\n",
    "        x += vx* dt + noisex\n",
    "        y += vy* dt + noisey\n",
    "\n",
    "        #print(x)\n",
    "        x_array[i:,] = x\n",
    "        y_array[i:,] = y\n",
    "\n",
    "\n",
    "        time += dt\n",
    "        i+= 1\n",
    "    return x, y"
   ]
  },
  {
   "cell_type": "code",
   "execution_count": 15,
   "metadata": {},
   "outputs": [],
   "source": [
    "a,b = dynamic_gen()\n",
    "\n",
    "def plot_temp(t):\n",
    "    f.scatter_t(a,b,c,t)\n",
    "    \n",
    "interact(plot_temp, t=(0,a.shape[0]-1,1))"
   ]
  },
  {
   "cell_type": "code",
   "execution_count": 20,
   "metadata": {},
   "outputs": [
    {
     "data": {
      "image/png": "[encoded data removed]",
      "text/plain": [
       "<Figure size 640x480 with 1 Axes>"
      ]
     },
     "metadata": {},
     "output_type": "display_data"
    }
   ],
   "source": [
    "import random\n",
    "import math\n",
    "import matplotlib.pyplot as plt\n",
    "from matplotlib.animation import FuncAnimation\n",
    "\n",
    "# Constants\n",
    "WIDTH, HEIGHT = 800, 600\n",
    "RADIUS = 30\n",
    "NUM_PARTICLES = 10\n",
    "\n",
    "class Particle:\n",
    "    def __init__(self):\n",
    "        self.x = random.randint(RADIUS, WIDTH - RADIUS)\n",
    "        self.y = random.randint(RADIUS, HEIGHT - RADIUS)\n",
    "        self.radius = RADIUS\n",
    "        self.speed = 1\n",
    "        self.direction = random.uniform(0, 2*math.pi)\n",
    "\n",
    "    def update(self):\n",
    "        self.x += self.speed * math.cos(self.direction)\n",
    "        self.y += self.speed * math.sin(self.direction)\n",
    "        self.check_boundary_collision()\n",
    "        self.check_particle_collision()\n",
    "\n",
    "    def check_boundary_collision(self):\n",
    "        # Check if particle is outside the circular boundary\n",
    "        distance_to_center = math.sqrt((self.x - WIDTH/2)**2 + (self.y - HEIGHT/2)**2)\n",
    "        if distance_to_center + self.radius > min(WIDTH, HEIGHT) / 2:\n",
    "            # Adjust position so it's inside the circle\n",
    "            angle_to_center = math.atan2(self.y - HEIGHT/2, self.x - WIDTH/2)\n",
    "            self.x = (min(WIDTH, HEIGHT) / 2 - self.radius) * math.cos(angle_to_center) + WIDTH/2\n",
    "            self.y = (min(WIDTH, HEIGHT) / 2 - self.radius) * math.sin(angle_to_center) + HEIGHT/2\n",
    "\n",
    "    def check_particle_collision(self):\n",
    "        for particle in particles:\n",
    "            if particle != self:  # Avoid self-collision check\n",
    "                distance = math.sqrt((self.x - particle.x)**2 + (self.y - particle.y)**2)\n",
    "                if distance <= self.radius + particle.radius:\n",
    "                    # Collision detected, update directions\n",
    "                    angle = math.atan2(particle.y - self.y, particle.x - self.x)\n",
    "                    self.direction = angle + self.direction\n",
    "                    particle.direction = angle + particle.direction\n",
    "\n",
    "def update(frame):\n",
    "    for particle in particles:\n",
    "        particle.update()\n",
    "    x_data = [particle.x for particle in particles]\n",
    "    y_data = [particle.y for particle in particles]\n",
    "    scatter.set_offsets(list(zip(x_data, y_data)))\n",
    "    return scatter,\n",
    "\n",
    "def init():\n",
    "    x_data = [particle.x for particle in particles]\n",
    "    y_data = [particle.y for particle in particles]\n",
    "    scatter.set_offsets(list(zip(x_data, y_data)))\n",
    "    return scatter,\n",
    "\n",
    "# Create particles\n",
    "particles = [Particle() for _ in range(NUM_PARTICLES)]\n",
    "\n",
    "# Create plot\n",
    "fig, ax = plt.subplots()\n",
    "ax.set_xlim(0, WIDTH)\n",
    "ax.set_ylim(0, HEIGHT)\n",
    "scatter = ax.scatter([], [], s=1000)\n",
    "\n",
    "# Animate\n",
    "ani = FuncAnimation(fig, update, frames=300, init_func=init, blit=True, interval=10)\n",
    "ani.save('xhess.gif', writer='imagemagick')\n",
    "plt.show()"
   ]
  },
  {
   "cell_type": "code",
   "execution_count": null,
   "metadata": {},
   "outputs": [],
   "source": []
  }
 ],
 "metadata": {
  "kernelspec": {
   "display_name": "Python 3",
   "language": "python",
   "name": "python3"
  },
  "language_info": {
   "codemirror_mode": {
    "name": "ipython",
    "version": 3
   },
   "file_extension": ".py",
   "mimetype": "text/x-python",
   "name": "python",
   "nbconvert_exporter": "python",
   "pygments_lexer": "ipython3",
   "version": "3.11.4"
  }
 },
 "nbformat": 4,
 "nbformat_minor": 2
}
