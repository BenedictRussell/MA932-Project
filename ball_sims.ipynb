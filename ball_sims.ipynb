{
 "cells": [
  {
   "cell_type": "code",
   "execution_count": 1,
   "metadata": {},
   "outputs": [],
   "source": [
    "import finite as f\n",
    "from IPython.display import clear_output, display, HTML \n",
    "from ipywidgets import interact, interactive  \n",
    "import numpy as np\n",
    "import matplotlib.pyplot as plt\n",
    "from matplotlib.animation import FuncAnimation"
   ]
  },
  {
   "cell_type": "markdown",
   "metadata": {},
   "source": [
    "# Swarming Model"
   ]
  },
  {
   "cell_type": "code",
   "execution_count": 2,
   "metadata": {},
   "outputs": [],
   "source": [
    "a,b,c = f.main()\n",
    "\n",
    "#np.shape(a)\n",
    "#f.scatter_t(a,b,c,-1)"
   ]
  },
  {
   "cell_type": "code",
   "execution_count": 3,
   "metadata": {},
   "outputs": [
    {
     "data": {
      "application/vnd.jupyter.widget-view+json": {
       "model_id": "9b24794519a1484498581a2bdecd04e2",
       "version_major": 2,
       "version_minor": 0
      },
      "text/plain": [
       "interactive(children=(IntSlider(value=99, description='t', max=199), Output()), _dom_classes=('widget-interact…"
      ]
     },
     "metadata": {},
     "output_type": "display_data"
    },
    {
     "data": {
      "text/plain": [
       "<function __main__.plot_temp(t)>"
      ]
     },
     "execution_count": 3,
     "metadata": {},
     "output_type": "execute_result"
    }
   ],
   "source": [
    "def plot_temp(t):\n",
    "    f.scatter_t(a,b,c,t)\n",
    "    \n",
    "interact(plot_temp, t=(0,a.shape[0]-1,1))"
   ]
  },
  {
   "cell_type": "markdown",
   "metadata": {},
   "source": [
    "# Collision Model"
   ]
  },
  {
   "cell_type": "code",
   "execution_count": null,
   "metadata": {},
   "outputs": [],
   "source": [
    "# collisions animation\n",
    "def update(t,dynamic,scatter):\n",
    "    x,y,theta = next(dynamic)\n",
    "    scatter.set_data([x,y])\n",
    "    return scatter,\n",
    "\n",
    "t = np.linspace(0, 4, 100)\n",
    "dynamic = f.dynamic_gen()\n",
    "x,y,theta = next(dynamic)\n",
    "\n",
    "fig, ax = plt.subplots(1,1,figsize=(8,8))\n",
    "scatter, = ax.plot(x,y,'ob',ms=5)\n",
    "ax.set_xlim(0,10); ax.set_ylim(0,10)\n",
    "\n",
    "ani = FuncAnimation(fig, update, frames=t, fargs=(dynamic,scatter), repeat=False,cache_frame_data=False)\n",
    "ani.save('try.gif', writer='imagemagick')"
   ]
  },
  {
   "cell_type": "code",
   "execution_count": null,
   "metadata": {},
   "outputs": [],
   "source": [
    "dynamic = f.dynamic_gen()\n",
    "\n",
    "def plot_temp(t):\n",
    "    x,y,th,d = next(dynamic)\n",
    "    f.scatter(x,y,th)\n",
    "    \n",
    "interact(plot_temp, t=(0,1,0.001))"
   ]
  }
 ],
 "metadata": {
  "kernelspec": {
   "display_name": "Python 3",
   "language": "python",
   "name": "python3"
  },
  "language_info": {
   "codemirror_mode": {
    "name": "ipython",
    "version": 3
   },
   "file_extension": ".py",
   "mimetype": "text/x-python",
   "name": "python",
   "nbconvert_exporter": "python",
   "pygments_lexer": "ipython3",
   "version": "3.11.4"
  }
 },
 "nbformat": 4,
 "nbformat_minor": 2
}
